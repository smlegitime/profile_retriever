{
 "cells": [
  {
   "cell_type": "markdown",
   "id": "73cca436",
   "metadata": {},
   "source": [
    "## StaffSpy"
   ]
  },
  {
   "cell_type": "code",
   "execution_count": 33,
   "id": "9a90e069",
   "metadata": {},
   "outputs": [],
   "source": [
    "import os\n",
    "import requests\n",
    "import json\n",
    "\n",
    "def get_li_slugs(name:str):\n",
    "    response = requests.get(\n",
    "        url=\"https://app.scrapingbee.com/api/v1/store/google\",\n",
    "        params={\n",
    "            \"api_key\": os.environ.get('SCRAPINGBEE_API_KEY'),\n",
    "            \"search\": f\"{name} linkedin\",\n",
    "            \"nb_results\": 10\n",
    "        }\n",
    "    )\n",
    "    response_str = response.content.decode('utf-8')\n",
    "    response_obj = json.loads(response_str)\n",
    "    profile_results = filter(\n",
    "        lambda obj: obj['url'].startswith(\"https://www.linkedin.com/in/\"),\n",
    "        response_obj['organic_results']\n",
    "        )\n",
    "    \n",
    "    slug = list(profile_results)[0]['url'].split('/in/')[1].strip('/') # Needs more complex logic to handle multiple names\n",
    "\n",
    "    return slug"
   ]
  },
  {
   "cell_type": "code",
   "execution_count": 34,
   "id": "53cc8f4e",
   "metadata": {},
   "outputs": [
    {
     "data": {
      "text/plain": [
       "'slegitime'"
      ]
     },
     "execution_count": 34,
     "metadata": {},
     "output_type": "execute_result"
    }
   ],
   "source": [
    "slug = get_li_slugs('Sybille Legitime')\n",
    "slug"
   ]
  },
  {
   "cell_type": "code",
   "execution_count": 3,
   "id": "a8ed7895",
   "metadata": {},
   "outputs": [
    {
     "name": "stderr",
     "output_type": "stream",
     "text": [
      "2025-04-24 21:12:31,511 - StaffSpy - INFO - Testing if logged in by checking arbitrary LinkedIn company page\n",
      "2025-04-24 21:12:32,230 - StaffSpy - INFO - Account successfully logged in - res code 200\n",
      "2025-04-24 21:12:32,639 - StaffSpy - INFO - Fetching data for account ACoAABunNswBt5Cz2Fi0-qYi3EgzbHoCsFYgsg8    1 / 1 - https://www.linkedin.com/in/slegitime\n",
      "2025-04-24 21:12:33,715 - StaffSpy - INFO - Scraped 1 users\n"
     ]
    }
   ],
   "source": [
    "from pathlib import Path\n",
    "from staffspy import LinkedInAccount\n",
    "\n",
    "# session_file = f\"{Path(__file__).resolve().parent}/session.pkl\"\n",
    "session_file=\"session.pkl\" # saves login cookies to log in once (lasts about a week)\n",
    "\n",
    "account = LinkedInAccount(\n",
    "    session_file=session_file,\n",
    "    log_level=1\n",
    ")\n",
    "\n",
    "users = account.scrape_users(user_ids=[slug])"
   ]
  },
  {
   "cell_type": "code",
   "execution_count": 4,
   "id": "25d8154c",
   "metadata": {},
   "outputs": [
    {
     "data": {
      "text/plain": [
       "Index(['search_term', 'id', 'urn', 'profile_link', 'profile_id', 'name',\n",
       "       'first_name', 'last_name', 'location', 'headline', 'estimated_age',\n",
       "       'followers', 'connections', 'mutuals', 'is_connection', 'premium',\n",
       "       'creator', 'influencer', 'open_to_work', 'is_hiring',\n",
       "       'current_position', 'current_company', 'past_company_1',\n",
       "       'past_company_2', 'school_1', 'school_2', 'top_skill_1', 'top_skill_2',\n",
       "       'top_skill_3', 'bio', 'experiences', 'schools', 'skills',\n",
       "       'certifications', 'languages', 'emails_in_bio', 'potential_emails',\n",
       "       'profile_photo', 'banner_photo', 'connection_created_at',\n",
       "       'connection_email', 'connection_phone_numbers', 'connection_websites',\n",
       "       'connection_street_address', 'connection_birthday'],\n",
       "      dtype='object')"
      ]
     },
     "execution_count": 4,
     "metadata": {},
     "output_type": "execute_result"
    }
   ],
   "source": [
    "users.columns"
   ]
  },
  {
   "cell_type": "code",
   "execution_count": 5,
   "id": "7a34d517",
   "metadata": {},
   "outputs": [
    {
     "data": {
      "text/plain": [
       "0    Prudential Financial\n",
       "Name: current_company, dtype: object"
      ]
     },
     "execution_count": 5,
     "metadata": {},
     "output_type": "execute_result"
    }
   ],
   "source": [
    "users['current_company']"
   ]
  },
  {
   "cell_type": "code",
   "execution_count": 6,
   "id": "37abe28c",
   "metadata": {},
   "outputs": [],
   "source": [
    "import concurrent.futures\n",
    "import requests\n",
    "\n",
    "MAX_RETRIES = 5 # Setting the maximum number of retries if we have failed requests to 5.\n",
    "MAX_THREADS = 4\n",
    "names = [\"Sybille Legitime\", \"Dave Legitime\"]\n",
    "slugs = []\n",
    "\n",
    "def extract_slug(response):\n",
    "    response_str = response.content.decode('utf-8')\n",
    "    response_obj = json.loads(response_str)\n",
    "    return response_obj['organic_results'][0]['url'].split('/in/')[1].strip('/')\n",
    "\n",
    "def scrape(name):\n",
    "    for _ in range(MAX_RETRIES):\n",
    "        response = requests.get(\n",
    "            url=\"https://app.scrapingbee.com/api/v1/store/google\",\n",
    "            params={\n",
    "                \"api_key\": os.environ.get('SCRAPINGBEE_API_KEY'),\n",
    "                \"search\": f\"{name} linkedin\",\n",
    "                \"nb_results\": 10\n",
    "            }\n",
    "        )\n",
    "\n",
    "        if response.ok: # If we get a successful request\n",
    "            slug = extract_slug(response)\n",
    "            return slug\n",
    "\n",
    "with concurrent.futures.ThreadPoolExecutor(max_workers=MAX_THREADS) as executor:\n",
    "    futures = [executor.submit(scrape, name) for name in names]\n",
    "    \n",
    "    for future in concurrent.futures.as_completed(futures):\n",
    "        slugs.append(future.result())"
   ]
  },
  {
   "cell_type": "code",
   "execution_count": 7,
   "id": "722e4f3a",
   "metadata": {},
   "outputs": [
    {
     "data": {
      "text/plain": [
       "['slegitime', 'dave-l%C3%A9gitime']"
      ]
     },
     "execution_count": 7,
     "metadata": {},
     "output_type": "execute_result"
    }
   ],
   "source": [
    "slugs"
   ]
  },
  {
   "cell_type": "code",
   "execution_count": 8,
   "id": "9365967e",
   "metadata": {},
   "outputs": [
    {
     "name": "stderr",
     "output_type": "stream",
     "text": [
      "2025-04-24 21:35:00,122 - StaffSpy - INFO - Fetching data for account ACoAABunNswBt5Cz2Fi0-qYi3EgzbHoCsFYgsg8    1 / 2 - https://www.linkedin.com/in/slegitime\n",
      "2025-04-24 21:35:01,293 - StaffSpy - INFO - Fetching data for account ACoAACp_A38BycdjIxPDDgCz9dUCLqdhHXTzF38    2 / 2 - https://www.linkedin.com/in/dave-l%C3%A9gitime\n",
      "2025-04-24 21:35:02,275 - StaffSpy - INFO - Scraped 2 users\n"
     ]
    }
   ],
   "source": [
    "users = account.scrape_users(user_ids=slugs)"
   ]
  },
  {
   "cell_type": "code",
   "execution_count": 17,
   "id": "2dc5c63c",
   "metadata": {},
   "outputs": [
    {
     "data": {
      "text/html": [
       "<div>\n",
       "<style scoped>\n",
       "    .dataframe tbody tr th:only-of-type {\n",
       "        vertical-align: middle;\n",
       "    }\n",
       "\n",
       "    .dataframe tbody tr th {\n",
       "        vertical-align: top;\n",
       "    }\n",
       "\n",
       "    .dataframe thead th {\n",
       "        text-align: right;\n",
       "    }\n",
       "</style>\n",
       "<table border=\"1\" class=\"dataframe\">\n",
       "  <thead>\n",
       "    <tr style=\"text-align: right;\">\n",
       "      <th></th>\n",
       "      <th>name</th>\n",
       "      <th>profile_id</th>\n",
       "      <th>current_company</th>\n",
       "    </tr>\n",
       "  </thead>\n",
       "  <tbody>\n",
       "    <tr>\n",
       "      <th>0</th>\n",
       "      <td>Sybille Légitime</td>\n",
       "      <td>slegitime</td>\n",
       "      <td>Prudential Financial</td>\n",
       "    </tr>\n",
       "    <tr>\n",
       "      <th>1</th>\n",
       "      <td>Dave Légitime</td>\n",
       "      <td>dave-légitime</td>\n",
       "      <td>College of Our Lady of the Elms</td>\n",
       "    </tr>\n",
       "  </tbody>\n",
       "</table>\n",
       "</div>"
      ],
      "text/plain": [
       "               name     profile_id                  current_company\n",
       "0  Sybille Légitime      slegitime             Prudential Financial\n",
       "1    Dave Légitime   dave-légitime  College of Our Lady of the Elms"
      ]
     },
     "execution_count": 17,
     "metadata": {},
     "output_type": "execute_result"
    }
   ],
   "source": [
    "import pandas as pd\n",
    "\n",
    "name_to_company = users[['name', 'profile_id', 'current_company']].copy()\n",
    "name_to_company"
   ]
  },
  {
   "cell_type": "code",
   "execution_count": 18,
   "id": "c2dfcb20",
   "metadata": {},
   "outputs": [],
   "source": [
    "name_to_company.to_csv(\"../test/name_to_company.csv\", index=False)\n"
   ]
  },
  {
   "cell_type": "markdown",
   "id": "ff22a29c",
   "metadata": {},
   "source": [
    "## proxycurl"
   ]
  },
  {
   "cell_type": "code",
   "execution_count": null,
   "id": "96258af7",
   "metadata": {},
   "outputs": [],
   "source": [
    "import requests\n",
    "import os\n",
    "\n",
    "api_key = os.environ.get('PROXYCURL_API_KEY')\n",
    "headers = {'Authorization': 'Bearer ' + api_key}\n",
    "api_endpoint = 'https://nubela.co/proxycurl/api/v2/linkedin'\n",
    "params = {\n",
    "    'linkedin_profile_url': 'https://linkedin.com/in/slegitime/',\n",
    "    'extra': 'include',\n",
    "    'github_profile_id': 'include',\n",
    "    'facebook_profile_id': 'include',\n",
    "    'twitter_profile_id': 'include',\n",
    "    'personal_contact_number': 'include',\n",
    "    'personal_email': 'include',\n",
    "    'inferred_salary': 'include',\n",
    "    'skills': 'include',\n",
    "    'use_cache': 'if-present',\n",
    "    'fallback_to_cache': 'on-error',\n",
    "}\n",
    "response = requests.get(api_endpoint,\n",
    "                        params=params,\n",
    "                        headers=headers)"
   ]
  },
  {
   "cell_type": "code",
   "execution_count": 12,
   "id": "e313328b",
   "metadata": {},
   "outputs": [],
   "source": [
    "import pandas as pd\n",
    "import json\n",
    "\n",
    "res = json.loads(response.content.decode('utf-8'))\n",
    "proxycurl_res_dict = {\n",
    "    'name': [res['full_name']],\n",
    "    'profile_id': [res['public_identifier']],\n",
    "    'current_company': [res['experiences'][0]['company']]\n",
    "}\n",
    "\n",
    "proxycurl_res_df = pd.DataFrame(proxycurl_res_dict)"
   ]
  },
  {
   "cell_type": "code",
   "execution_count": 13,
   "id": "adff475f",
   "metadata": {},
   "outputs": [
    {
     "data": {
      "text/html": [
       "<div>\n",
       "<style scoped>\n",
       "    .dataframe tbody tr th:only-of-type {\n",
       "        vertical-align: middle;\n",
       "    }\n",
       "\n",
       "    .dataframe tbody tr th {\n",
       "        vertical-align: top;\n",
       "    }\n",
       "\n",
       "    .dataframe thead th {\n",
       "        text-align: right;\n",
       "    }\n",
       "</style>\n",
       "<table border=\"1\" class=\"dataframe\">\n",
       "  <thead>\n",
       "    <tr style=\"text-align: right;\">\n",
       "      <th></th>\n",
       "      <th>name</th>\n",
       "      <th>profile_id</th>\n",
       "      <th>current_company</th>\n",
       "    </tr>\n",
       "  </thead>\n",
       "  <tbody>\n",
       "    <tr>\n",
       "      <th>0</th>\n",
       "      <td>Sybille Légitime</td>\n",
       "      <td>slegitime</td>\n",
       "      <td>Prudential Financial</td>\n",
       "    </tr>\n",
       "  </tbody>\n",
       "</table>\n",
       "</div>"
      ],
      "text/plain": [
       "               name profile_id       current_company\n",
       "0  Sybille Légitime  slegitime  Prudential Financial"
      ]
     },
     "execution_count": 13,
     "metadata": {},
     "output_type": "execute_result"
    }
   ],
   "source": [
    "proxycurl_res_df"
   ]
  },
  {
   "cell_type": "code",
   "execution_count": 14,
   "id": "cfd28e76",
   "metadata": {},
   "outputs": [],
   "source": [
    "proxycurl_res_df.to_csv(\"../test/name_to_company_proxycurl.csv\", index=False)"
   ]
  }
 ],
 "metadata": {
  "kernelspec": {
   "display_name": "venv",
   "language": "python",
   "name": "python3"
  },
  "language_info": {
   "codemirror_mode": {
    "name": "ipython",
    "version": 3
   },
   "file_extension": ".py",
   "mimetype": "text/x-python",
   "name": "python",
   "nbconvert_exporter": "python",
   "pygments_lexer": "ipython3",
   "version": "3.11.5"
  }
 },
 "nbformat": 4,
 "nbformat_minor": 5
}
